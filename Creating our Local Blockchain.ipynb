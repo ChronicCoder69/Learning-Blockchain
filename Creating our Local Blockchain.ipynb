{
 "cells": [
  {
   "cell_type": "markdown",
   "id": "a1aae8ea",
   "metadata": {},
   "source": [
    "#What's BlockChain?\n",
    "- Concatenation of multiple blocks containing information about a particular set of similar transactions that are interlinked to one another via a chain of hash values, each new block corresponding to the 'Hash value' of its previous block."
   ]
  },
  {
   "cell_type": "code",
   "execution_count": 3,
   "id": "9b879e42",
   "metadata": {},
   "outputs": [],
   "source": [
    "import hashlib\n",
    "#Library required for Hashing"
   ]
  },
  {
   "cell_type": "code",
   "execution_count": 13,
   "id": "f4a70d8e",
   "metadata": {},
   "outputs": [
    {
     "name": "stdout",
     "output_type": "stream",
     "text": [
      "Arjit sends 2.6 MNC to Ruddha-Ruddha sends 4.01 MNC to Anmol-Initial String\n",
      "0588095bf5293052eb2d919ebd7b69801caa54d5ed73efff340666df4bb4eeb7\n",
      "Anmol sends 3.2 MNC to Aditya-Aditya sends 0.3 MNC to Sanskar-0588095bf5293052eb2d919ebd7b69801caa54d5ed73efff340666df4bb4eeb7\n",
      "b9efffdf525734b00dd68cf72207443375d7aadb3c67ec58a0ee2832b0a7d73b\n",
      "Arjit sends 6 MNC to Rahul-Arjit sends 1.4 MNC to Ruddha-b9efffdf525734b00dd68cf72207443375d7aadb3c67ec58a0ee2832b0a7d73b\n",
      "daf1e3588790ba1b04c0ac4f4cb0d879de0fd14afe7843395a0bbca577c8f9a6\n"
     ]
    }
   ],
   "source": [
    "#A class representing a single block of the blockchain \n",
    "#that goes by the name 'MidNightCoin'\n",
    "\n",
    "class MidNightCoinBlock:\n",
    "    def __init__(self, previous_block_hash,transaction_list):\n",
    "        \n",
    "        # for previous block's hash calculation\n",
    "        self.previous_block_hash = previous_block_hash\n",
    "        \n",
    "        # for generating the transaction list\n",
    "        self.transaction_list = transaction_list\n",
    "        \n",
    "        # To output the total data of all involved transaction in the block\n",
    "        self.block_data = \"-\".join(transaction_list) + \"-\" + previous_block_hash\n",
    "        \n",
    "        # To get the hash of current block\n",
    "        self.block_hash = hashlib.sha256(self.block_data.encode()).hexdigest()\n",
    "        \n",
    "#Creating all the transactions\n",
    "        \n",
    "t1 = \"Arjit sends 2.6 MNC to Ruddha\"\n",
    "t2 = \"Ruddha sends 4.01 MNC to Anmol\"\n",
    "t3 = \"Anmol sends 3.2 MNC to Aditya\"\n",
    "t4 = \"Aditya sends 0.3 MNC to Sanskar\"\n",
    "t5 = \"Arjit sends 6 MNC to Anannya\"\n",
    "t6 = \"Arjit sends 1.4 MNC to Ruddha\"\n",
    "\n",
    "#Initial block's definition\n",
    "initial_block = MidNightCoinBlock(\"Initial String\", [t1, t2])\n",
    "print(initial_block.block_data)\n",
    "print(initial_block.block_hash)\n",
    "\n",
    "#For second block's definition\n",
    "second_block = MidNightCoinBlock(initial_block.block_hash,[t3,t4])\n",
    "\n",
    "print(second_block.block_data)\n",
    "print(second_block.block_hash)\n",
    "\n",
    "#For third Block's definition\n",
    "third_block = MidNightCoinBlock(second_block.block_hash,[t5,t6])\n",
    "\n",
    "print(third_block.block_data)\n",
    "print(third_block.block_hash)\n",
    "    \n"
   ]
  },
  {
   "cell_type": "code",
   "execution_count": null,
   "id": "28c19a5b",
   "metadata": {},
   "outputs": [],
   "source": []
  }
 ],
 "metadata": {
  "kernelspec": {
   "display_name": "Python 3 (ipykernel)",
   "language": "python",
   "name": "python3"
  },
  "language_info": {
   "codemirror_mode": {
    "name": "ipython",
    "version": 3
   },
   "file_extension": ".py",
   "mimetype": "text/x-python",
   "name": "python",
   "nbconvert_exporter": "python",
   "pygments_lexer": "ipython3",
   "version": "3.9.7"
  }
 },
 "nbformat": 4,
 "nbformat_minor": 5
}
